{
 "cells": [
  {
   "cell_type": "code",
   "execution_count": 1,
   "metadata": {},
   "outputs": [],
   "source": [
    "import numpy as np\n",
    "import os\n",
    "import pandas as pd\n",
    "import pickle as pkl\n",
    "from utils import variants_to_onehot_seq, variants_to_seq\n",
    "from Bio import SeqIO"
   ]
  },
  {
   "cell_type": "code",
   "execution_count": 2,
   "metadata": {},
   "outputs": [],
   "source": [
    "data_dir = \"../Data/\"\n",
    "output_data_dir = \"data\""
   ]
  },
  {
   "cell_type": "code",
   "execution_count": 3,
   "metadata": {},
   "outputs": [],
   "source": [
    "protein_variants_files = dict()\n",
    "# List only folders in data folder\n",
    "for folder in os.listdir(data_dir,):\n",
    "    if os.path.isdir(os.path.join(data_dir, folder)):\n",
    "        variants = []\n",
    "        # List every file in folder with fasta extension\n",
    "        for file in os.listdir(data_dir + folder):\n",
    "            if file.endswith(\".csv\"):\n",
    "                variants.append(file)\n",
    "        protein_variants_files[folder] = variants"
   ]
  },
  {
   "cell_type": "code",
   "execution_count": 4,
   "metadata": {},
   "outputs": [
    {
     "data": {
      "text/plain": [
       "{'avgfp': ['avgfp_encoded.csv'],\n",
       " 'bg_strsq': ['BG_STRSQ_Abate2015_encoded.csv'],\n",
       " 'blat_ecolx': ['BLAT_ECOLX_Ostermeier2014_encoded.csv',\n",
       "  'BLAT_ECOLX_Palzkill2012_encoded.csv',\n",
       "  'BLAT_ECOLX_Ranganathan2015_encoded.csv',\n",
       "  'BLAT_ECOLX_Tenaillon2013-singles_encoded.csv'],\n",
       " 'brca1_human': ['BRCA1_HUMAN_Fields2015_e3_encoded.csv',\n",
       "  'BRCA1_HUMAN_Fields2015_y2h_encoded.csv'],\n",
       " 'dlg4_rat': ['DLG4_RAT_Ranganathan2012_encoded.csv'],\n",
       " 'gal4_yeast': ['GAL4_YEAST_Shendure2015_encoded.csv'],\n",
       " 'hg_flu': ['HG_FLU_Bloom2016_encoded.csv'],\n",
       " 'hsp82_yeast': ['HSP82_YEAST_Bolon2016_encoded.csv'],\n",
       " 'kka2_klepn': ['KKA2_KLEPN_Mikkelsen2014_encoded.csv'],\n",
       " 'mth3_haeaestabilized': ['MTH3_HAEAESTABILIZED_Tawfik2015_encoded.csv'],\n",
       " 'pabp_yeast': ['PABP_YEAST_Fields2013-doubles_encoded.csv',\n",
       "  'PABP_YEAST_Fields2013-singles_encoded.csv'],\n",
       " 'polg_hcvjf': ['POLG_HCVJF_Sun2014_encoded.csv'],\n",
       " 'rl401_yeast': ['RL401_YEAST_Bolon2013_encoded.csv',\n",
       "  'RL401_YEAST_Bolon2014_encoded.csv'],\n",
       " 'ube4b_mouse': ['UBE4B_MOUSE_Klevit2013-singles_encoded.csv'],\n",
       " 'yap1_human': ['YAP1_HUMAN_Fields2012-singles_encoded.csv']}"
      ]
     },
     "execution_count": 4,
     "metadata": {},
     "output_type": "execute_result"
    }
   ],
   "source": [
    "protein_variants_files"
   ]
  },
  {
   "cell_type": "code",
   "execution_count": 8,
   "metadata": {},
   "outputs": [
    {
     "name": "stdout",
     "output_type": "stream",
     "text": [
      " avgfp, Start: 1, End: 235, Length: 235, Offset: 1, Continuous: True\n"
     ]
    },
    {
     "ename": "AttributeError",
     "evalue": "'Series' object has no attribute 'split'",
     "output_type": "error",
     "traceback": [
      "\u001b[0;31m---------------------------------------------------------------------------\u001b[0m",
      "\u001b[0;31mAttributeError\u001b[0m                            Traceback (most recent call last)",
      "Cell \u001b[0;32mIn [8], line 16\u001b[0m\n\u001b[1;32m     13\u001b[0m wilt_type_startpos \u001b[39m=\u001b[39m \u001b[39mint\u001b[39m(wild_type\u001b[39m.\u001b[39mdescription\u001b[39m.\u001b[39mlower()\u001b[39m.\u001b[39msplit(\u001b[39m\"\u001b[39m\u001b[39mstart: \u001b[39m\u001b[39m\"\u001b[39m)[\u001b[39m1\u001b[39m]\u001b[39m.\u001b[39msplit(\u001b[39m\"\u001b[39m\u001b[39m,\u001b[39m\u001b[39m\"\u001b[39m)[\u001b[39m0\u001b[39m])\n\u001b[1;32m     15\u001b[0m \u001b[39m# Convert variants to one-hot encoded sequences\u001b[39;00m\n\u001b[0;32m---> 16\u001b[0m X \u001b[39m=\u001b[39m variants_to_seq(variants_df, wild_type_seq, wilt_type_startpos)\n\u001b[1;32m     17\u001b[0m y \u001b[39m=\u001b[39m fitness_df\u001b[39m.\u001b[39mto_numpy()\n\u001b[1;32m     19\u001b[0m \u001b[39m# Save to pickle\u001b[39;00m\n\u001b[1;32m     20\u001b[0m \u001b[39m# Create protein directory if it doesn't exist\u001b[39;00m\n",
      "File \u001b[0;32m~/MERGE/jba/utils.py:36\u001b[0m, in \u001b[0;36mvariants_to_seq\u001b[0;34m(variants_row, wild_type_seq, wild_type_startpos)\u001b[0m\n\u001b[1;32m     34\u001b[0m \u001b[39mdef\u001b[39;00m \u001b[39mvariants_to_seq\u001b[39m(variants_row, wild_type_seq, wild_type_startpos):\n\u001b[1;32m     35\u001b[0m     tmp_wt \u001b[39m=\u001b[39m wild_type_seq\n\u001b[0;32m---> 36\u001b[0m     variants \u001b[39m=\u001b[39m variants_row\u001b[39m.\u001b[39;49msplit(\u001b[39m\"\u001b[39m\u001b[39m,\u001b[39m\u001b[39m\"\u001b[39m)\n\u001b[1;32m     37\u001b[0m     \u001b[39mfor\u001b[39;00m variant \u001b[39min\u001b[39;00m variants:\n\u001b[1;32m     38\u001b[0m         pos \u001b[39m=\u001b[39m \u001b[39mint\u001b[39m(variant[\u001b[39m1\u001b[39m:\u001b[39m-\u001b[39m\u001b[39m1\u001b[39m]) \u001b[39m-\u001b[39m wild_type_startpos\n",
      "File \u001b[0;32m~/anaconda3/envs/estancia/lib/python3.8/site-packages/pandas/core/generic.py:5575\u001b[0m, in \u001b[0;36mNDFrame.__getattr__\u001b[0;34m(self, name)\u001b[0m\n\u001b[1;32m   5568\u001b[0m \u001b[39mif\u001b[39;00m (\n\u001b[1;32m   5569\u001b[0m     name \u001b[39mnot\u001b[39;00m \u001b[39min\u001b[39;00m \u001b[39mself\u001b[39m\u001b[39m.\u001b[39m_internal_names_set\n\u001b[1;32m   5570\u001b[0m     \u001b[39mand\u001b[39;00m name \u001b[39mnot\u001b[39;00m \u001b[39min\u001b[39;00m \u001b[39mself\u001b[39m\u001b[39m.\u001b[39m_metadata\n\u001b[1;32m   5571\u001b[0m     \u001b[39mand\u001b[39;00m name \u001b[39mnot\u001b[39;00m \u001b[39min\u001b[39;00m \u001b[39mself\u001b[39m\u001b[39m.\u001b[39m_accessors\n\u001b[1;32m   5572\u001b[0m     \u001b[39mand\u001b[39;00m \u001b[39mself\u001b[39m\u001b[39m.\u001b[39m_info_axis\u001b[39m.\u001b[39m_can_hold_identifiers_and_holds_name(name)\n\u001b[1;32m   5573\u001b[0m ):\n\u001b[1;32m   5574\u001b[0m     \u001b[39mreturn\u001b[39;00m \u001b[39mself\u001b[39m[name]\n\u001b[0;32m-> 5575\u001b[0m \u001b[39mreturn\u001b[39;00m \u001b[39mobject\u001b[39;49m\u001b[39m.\u001b[39;49m\u001b[39m__getattribute__\u001b[39;49m(\u001b[39mself\u001b[39;49m, name)\n",
      "\u001b[0;31mAttributeError\u001b[0m: 'Series' object has no attribute 'split'"
     ]
    }
   ],
   "source": [
    "for protein, variants_files in protein_variants_files.items():\n",
    "    for variants_file in variants_files:\n",
    "        \n",
    "        df = pd.read_csv(os.path.join(data_dir, protein, variants_file), sep=\";\")\n",
    "        fitness_df = df[\"y\"]\n",
    "        variants_df = df[\"variant\"]\n",
    "        \n",
    "        # Get the wild type\n",
    "        wild_type_file = os.path.join(data_dir, protein, protein+\".fasta\")\n",
    "        wild_type = SeqIO.read(wild_type_file, \"fasta\")\n",
    "        wild_type_seq = wild_type.seq\n",
    "        print(wild_type.description)\n",
    "        wilt_type_startpos = int(wild_type.description.lower().split(\"start: \")[1].split(\",\")[0])\n",
    "\n",
    "        # Convert variants to one-hot encoded sequences\n",
    "        X = variants_to_seq(variants_df, wild_type_seq, wilt_type_startpos)\n",
    "        y = fitness_df.to_numpy()\n",
    "\n",
    "        # Save to pickle\n",
    "        # Create protein directory if it doesn't exist\n",
    "        if not os.path.exists(os.path.join(output_data_dir, protein)):\n",
    "            os.makedirs(os.path.join(output_data_dir, protein))\n",
    "        pkl.dump(X, open(os.path.join(output_data_dir, protein, variants_file.split(\"_encoded\")[0] + \"_X.pkl\"), \"wb\"))\n",
    "        pkl.dump(y, open(os.path.join(output_data_dir, protein, variants_file.split(\"_encoded\")[0] + \"_y.pkl\"), \"wb\"))"
   ]
  },
  {
   "cell_type": "code",
   "execution_count": 7,
   "metadata": {},
   "outputs": [
    {
     "name": "stdout",
     "output_type": "stream",
     "text": [
      "(32610, 235, 20) (32610,)\n",
      "(2598, 478, 20) (2598,)\n",
      "(4799, 286, 20) (4799,)\n",
      "(4922, 286, 20) (4922,)\n",
      "(4921, 286, 20) (4921,)\n",
      "(975, 286, 20) (975,)\n",
      "(2846, 303, 20) (2846,)\n",
      "(1278, 303, 20) (1278,)\n",
      "(1388, 83, 20) (1388,)\n",
      "(803, 64, 20) (803,)\n",
      "(2198, 564, 20) (2198,)\n",
      "(4065, 230, 20) (4065,)\n",
      "(3827, 264, 20) (3827,)\n",
      "(1611, 329, 20) (1611,)\n",
      "(33771, 75, 20) (33771,)\n",
      "(1142, 75, 20) (1142,)\n",
      "(1613, 86, 20) (1613,)\n",
      "(1154, 75, 20) (1154,)\n",
      "(1282, 75, 20) (1282,)\n",
      "(518, 102, 20) (518,)\n",
      "(313, 34, 20) (313,)\n"
     ]
    }
   ],
   "source": [
    "for protein, variants_files in protein_variants_files.items():\n",
    "    for variants_file in variants_files:\n",
    "        X = pkl.load(open(os.path.join(output_data_dir, protein, variants_file.split(\"_encoded\")[0] + \"_X.pkl\"), \"rb\"))\n",
    "        y = pkl.load(open(os.path.join(output_data_dir, protein, variants_file.split(\"_encoded\")[0] + \"_y.pkl\"), \"rb\"))\n",
    "        print(X.shape, y.shape)"
   ]
  },
  {
   "cell_type": "code",
   "execution_count": null,
   "metadata": {},
   "outputs": [],
   "source": []
  }
 ],
 "metadata": {
  "kernelspec": {
   "display_name": "Python 3.9.13 ('estancia')",
   "language": "python",
   "name": "python3"
  },
  "language_info": {
   "codemirror_mode": {
    "name": "ipython",
    "version": 3
   },
   "file_extension": ".py",
   "mimetype": "text/x-python",
   "name": "python",
   "nbconvert_exporter": "python",
   "pygments_lexer": "ipython3",
   "version": "3.8.12"
  },
  "orig_nbformat": 4,
  "vscode": {
   "interpreter": {
    "hash": "4dd8084ca7b51f1ee2f800542e20867bef434e2be1cb60596c8ab40f550fde80"
   }
  }
 },
 "nbformat": 4,
 "nbformat_minor": 2
}
