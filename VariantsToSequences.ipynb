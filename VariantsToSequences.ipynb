{
 "cells": [
  {
   "cell_type": "code",
   "execution_count": 1,
   "metadata": {},
   "outputs": [],
   "source": [
    "import numpy as np\n",
    "import os\n",
    "import pandas as pd\n",
    "import pickle as pkl\n",
    "from utils import variants_to_onehot_seq, variants_to_seq\n",
    "from Bio import SeqIO"
   ]
  },
  {
   "cell_type": "code",
   "execution_count": 2,
   "metadata": {},
   "outputs": [],
   "source": [
    "# data_dir = \"../Data/\"\n",
    "# output_data_dir = \"data\"\n",
    "\n",
    "data_dir = \"Encodings/tmp_data/\"\n",
    "output_data_dir = \"Encodings/tmp_data/\""
   ]
  },
  {
   "cell_type": "code",
   "execution_count": 5,
   "metadata": {},
   "outputs": [],
   "source": [
    "protein_variants_files = dict()\n",
    "# List only folders in data folder\n",
    "for folder in os.listdir(data_dir,):\n",
    "    if os.path.isdir(os.path.join(data_dir, folder)):\n",
    "        variants = []\n",
    "        # List every file in folder with fasta extension\n",
    "        for file in os.listdir(data_dir + folder):\n",
    "            if file.endswith(\".csv\"):\n",
    "                variants.append(file)\n",
    "        protein_variants_files[folder] = variants"
   ]
  },
  {
   "cell_type": "code",
   "execution_count": 6,
   "metadata": {},
   "outputs": [
    {
     "data": {
      "text/plain": [
       "{'PABP_YEAST_Fields2013': ['PABP_YEAST_Fields2013_encoded.csv']}"
      ]
     },
     "execution_count": 6,
     "metadata": {},
     "output_type": "execute_result"
    }
   ],
   "source": [
    "protein_variants_files"
   ]
  },
  {
   "cell_type": "code",
   "execution_count": 8,
   "metadata": {},
   "outputs": [
    {
     "name": "stdout",
     "output_type": "stream",
     "text": [
      " pabp_yeast | start: 126, end: 200, length: 75 | OFFSET: 126\n"
     ]
    }
   ],
   "source": [
    "for protein, variants_files in protein_variants_files.items():\n",
    "    for variants_file in variants_files:\n",
    "        \n",
    "        df = pd.read_csv(os.path.join(data_dir, protein, variants_file), sep=\";\")\n",
    "        fitness_df = df[\"y\"]\n",
    "        variants_df = df[\"variant\"]\n",
    "        \n",
    "        # Get the wild type\n",
    "        wild_type_file = os.path.join(data_dir, protein, protein+\"_wt.fasta\")\n",
    "        wild_type = SeqIO.read(wild_type_file, \"fasta\")\n",
    "        wild_type_seq = wild_type.seq\n",
    "        print(wild_type.description)\n",
    "        wilt_type_startpos = int(wild_type.description.lower().split(\"start: \")[1].split(\",\")[0])\n",
    "\n",
    "        # Convert variants to one-hot encoded sequences\n",
    "        X = variants_to_seq(variants_df, wild_type_seq, wilt_type_startpos)\n",
    "        y = fitness_df.to_numpy()\n",
    "\n",
    "        # Save to pickle\n",
    "        # Create protein directory if it doesn't exist\n",
    "        if not os.path.exists(os.path.join(output_data_dir, protein)):\n",
    "            os.makedirs(os.path.join(output_data_dir, protein))\n",
    "        pkl.dump(X, open(os.path.join(output_data_dir, protein, variants_file.split(\"_encoded\")[0] + \"_X.pkl\"), \"wb\"))\n",
    "        pkl.dump(y, open(os.path.join(output_data_dir, protein, variants_file.split(\"_encoded\")[0] + \"_y.pkl\"), \"wb\"))"
   ]
  },
  {
   "cell_type": "code",
   "execution_count": 9,
   "metadata": {},
   "outputs": [
    {
     "ename": "AttributeError",
     "evalue": "'list' object has no attribute 'shape'",
     "output_type": "error",
     "traceback": [
      "\u001b[0;31m---------------------------------------------------------------------------\u001b[0m",
      "\u001b[0;31mAttributeError\u001b[0m                            Traceback (most recent call last)",
      "Cell \u001b[0;32mIn[9], line 5\u001b[0m\n\u001b[1;32m      3\u001b[0m X \u001b[39m=\u001b[39m pkl\u001b[39m.\u001b[39mload(\u001b[39mopen\u001b[39m(os\u001b[39m.\u001b[39mpath\u001b[39m.\u001b[39mjoin(output_data_dir, protein, variants_file\u001b[39m.\u001b[39msplit(\u001b[39m\"\u001b[39m\u001b[39m_encoded\u001b[39m\u001b[39m\"\u001b[39m)[\u001b[39m0\u001b[39m] \u001b[39m+\u001b[39m \u001b[39m\"\u001b[39m\u001b[39m_X.pkl\u001b[39m\u001b[39m\"\u001b[39m), \u001b[39m\"\u001b[39m\u001b[39mrb\u001b[39m\u001b[39m\"\u001b[39m))\n\u001b[1;32m      4\u001b[0m y \u001b[39m=\u001b[39m pkl\u001b[39m.\u001b[39mload(\u001b[39mopen\u001b[39m(os\u001b[39m.\u001b[39mpath\u001b[39m.\u001b[39mjoin(output_data_dir, protein, variants_file\u001b[39m.\u001b[39msplit(\u001b[39m\"\u001b[39m\u001b[39m_encoded\u001b[39m\u001b[39m\"\u001b[39m)[\u001b[39m0\u001b[39m] \u001b[39m+\u001b[39m \u001b[39m\"\u001b[39m\u001b[39m_y.pkl\u001b[39m\u001b[39m\"\u001b[39m), \u001b[39m\"\u001b[39m\u001b[39mrb\u001b[39m\u001b[39m\"\u001b[39m))\n\u001b[0;32m----> 5\u001b[0m \u001b[39mprint\u001b[39m(X\u001b[39m.\u001b[39;49mshape, y\u001b[39m.\u001b[39mshape)\n",
      "\u001b[0;31mAttributeError\u001b[0m: 'list' object has no attribute 'shape'"
     ]
    }
   ],
   "source": [
    "for protein, variants_files in protein_variants_files.items():\n",
    "    for variants_file in variants_files:\n",
    "        X = pkl.load(open(os.path.join(output_data_dir, protein, variants_file.split(\"_encoded\")[0] + \"_X.pkl\"), \"rb\"))\n",
    "        y = pkl.load(open(os.path.join(output_data_dir, protein, variants_file.split(\"_encoded\")[0] + \"_y.pkl\"), \"rb\"))\n",
    "        print(X.shape, y.shape)"
   ]
  },
  {
   "cell_type": "code",
   "execution_count": null,
   "metadata": {},
   "outputs": [],
   "source": []
  }
 ],
 "metadata": {
  "kernelspec": {
   "display_name": "Python 3.9.13 ('estancia')",
   "language": "python",
   "name": "python3"
  },
  "language_info": {
   "codemirror_mode": {
    "name": "ipython",
    "version": 3
   },
   "file_extension": ".py",
   "mimetype": "text/x-python",
   "name": "python",
   "nbconvert_exporter": "python",
   "pygments_lexer": "ipython3",
   "version": "3.8.12"
  },
  "orig_nbformat": 4,
  "vscode": {
   "interpreter": {
    "hash": "4dd8084ca7b51f1ee2f800542e20867bef434e2be1cb60596c8ab40f550fde80"
   }
  }
 },
 "nbformat": 4,
 "nbformat_minor": 2
}
