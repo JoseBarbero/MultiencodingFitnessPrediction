{
 "cells": [
  {
   "cell_type": "code",
   "execution_count": 48,
   "metadata": {},
   "outputs": [],
   "source": [
    "import os\n",
    "import sys\n",
    "import pickle as pkl\n",
    "import time\n",
    "import numpy as np\n",
    "from SequenceEncoding import SequenceEncoding\n",
    "from scipy import signal"
   ]
  },
  {
   "cell_type": "code",
   "execution_count": 3,
   "metadata": {},
   "outputs": [],
   "source": [
    "dataset_folder = \"../data/avgfp/\"\n",
    "dataset = dataset_folder.split('data/')[-1].split('/')[0]"
   ]
  },
  {
   "cell_type": "code",
   "execution_count": 28,
   "metadata": {},
   "outputs": [],
   "source": [
    "encoding_names = [\"One_hot\", \"One_hot_6_bit\", \"Binary_5_bit\",\n",
    "                      \"Hydrophobicity_matrix\", \"Meiler_parameters\", \"Acthely_factors\",\n",
    "                      \"PAM250\", \"BLOSUM62\",\n",
    "                      \"Miyazawa_energies\", \"Micheletti_potentials\",\n",
    "                      \"AESNN3\", \"ANN4D\", \"ProtVec\"]\n",
    "    \n",
    "encodings_dict = dict()\n",
    "\n",
    "i=0\n",
    "for encoding_name in encoding_names:\n",
    "    start = time.time()\n",
    "    encoding_file = os.path.join(dataset_folder, f'X_{encoding_name}.pkl')\n",
    "    i+=1\n",
    "    # If file does not exist, encode\n",
    "    if not os.path.exists(encoding_file):\n",
    "        print(f\"--> {encoding_name} [{i}/{len(encoding_names)}]\", end=\"\", flush=True)\n",
    "        X_file = os.path.join(dataset_folder, dataset+\"_X.pkl\")\n",
    "        X = pkl.load(open(X_file, 'rb'))\n",
    "        enc_X = np.array([SequenceEncoding(encoding_name).get_encoding(seq) for seq in X])\n",
    "        # Flatten the encoding\n",
    "        # enc_X = enc_X.reshape(enc_X.shape[0], -1)\n",
    "        # Save the encoding to a pickle file\n",
    "        with open(encoding_file, 'wb') as handle:\n",
    "            pkl.dump(enc_X, handle, protocol=pkl.HIGHEST_PROTOCOL) \n",
    "        print(f\"\\tsize={round(enc_X.nbytes/(1024*1024), 2)} MB\\t time={time.strftime('%Hh %Mm %Ss', time.gmtime(time.time() - start))}\", flush=True)\n",
    "    else:\n",
    "        enc_X = pkl.load(open(encoding_file, 'rb'))\n",
    "    \n",
    "    encodings_dict[encoding_name] = enc_X"
   ]
  },
  {
   "cell_type": "code",
   "execution_count": 29,
   "metadata": {},
   "outputs": [],
   "source": [
    "# Sequences have been previously flattened, so we need to reshape them to the original shape (N, seq_length, 20)\n",
    "onehot = encodings_dict[\"One_hot\"].reshape(encodings_dict[\"One_hot\"].shape[0], -1, 20)\n",
    "onehot_6bit = encodings_dict[\"One_hot_6_bit\"].reshape(encodings_dict[\"One_hot_6_bit\"].shape[0], -1, 6)\n",
    "binary_5bit = encodings_dict[\"Binary_5_bit\"].reshape(encodings_dict[\"Binary_5_bit\"].shape[0], -1, 5)\n",
    "hydrophobicity = encodings_dict[\"Hydrophobicity_matrix\"].reshape(encodings_dict[\"Hydrophobicity_matrix\"].shape[0], -1, 20)\n",
    "meiler = encodings_dict[\"Meiler_parameters\"].reshape(encodings_dict[\"Meiler_parameters\"].shape[0], -1, 7)\n",
    "acthely = encodings_dict[\"Acthely_factors\"].reshape(encodings_dict[\"Acthely_factors\"].shape[0], -1, 5)\n",
    "pam250 = encodings_dict[\"PAM250\"].reshape(encodings_dict[\"PAM250\"].shape[0], -1, 20)\n",
    "blosum62 = encodings_dict[\"BLOSUM62\"].reshape(encodings_dict[\"BLOSUM62\"].shape[0], -1, 20)\n",
    "miyazawa = encodings_dict[\"Miyazawa_energies\"].reshape(encodings_dict[\"Miyazawa_energies\"].shape[0], -1, 20)\n",
    "micheletti = encodings_dict[\"Micheletti_potentials\"].reshape(encodings_dict[\"Micheletti_potentials\"].shape[0], -1, 20)\n",
    "aesnn3 = encodings_dict[\"AESNN3\"].reshape(encodings_dict[\"AESNN3\"].shape[0], -1, 3)\n",
    "ann4d = encodings_dict[\"ANN4D\"].reshape(encodings_dict[\"ANN4D\"].shape[0], -1, 4)\n",
    "protvec = encodings_dict[\"ProtVec\"].reshape(encodings_dict[\"ProtVec\"].shape[0], -1, 100)"
   ]
  },
  {
   "cell_type": "code",
   "execution_count": 34,
   "metadata": {},
   "outputs": [],
   "source": [
    "seq_idx = 42\n",
    "onehot_seq = onehot[seq_idx]\n",
    "onehot_6bit_seq = onehot_6bit[seq_idx]\n",
    "binary_5bit_seq = binary_5bit[seq_idx]\n",
    "hydrophobicity_seq = hydrophobicity[seq_idx]\n",
    "meiler_seq = meiler[seq_idx]\n",
    "acthely_seq = acthely[seq_idx]\n",
    "pam250_seq = pam250[seq_idx]\n",
    "blosum62_seq = blosum62[seq_idx]\n",
    "miyazawa_seq = miyazawa[seq_idx]\n",
    "micheletti_seq = micheletti[seq_idx]\n",
    "aesnn3_seq = aesnn3[seq_idx]\n",
    "ann4d_seq = ann4d[seq_idx]\n",
    "protvec_seq = protvec[seq_idx]"
   ]
  },
  {
   "cell_type": "code",
   "execution_count": 39,
   "metadata": {},
   "outputs": [
    {
     "data": {
      "text/plain": [
       "((235, 20), (235, 20))"
      ]
     },
     "execution_count": 39,
     "metadata": {},
     "output_type": "execute_result"
    }
   ],
   "source": [
    "onehot_seq.shape, hydrophobicity_seq.shape"
   ]
  },
  {
   "cell_type": "code",
   "execution_count": 57,
   "metadata": {},
   "outputs": [],
   "source": [
    "combined_seq = signal.fftconvolve(onehot_seq, hydrophobicity_seq)"
   ]
  },
  {
   "cell_type": "code",
   "execution_count": 58,
   "metadata": {},
   "outputs": [
    {
     "data": {
      "text/plain": [
       "array([[-1.19608027e-15, -1.10134124e-15, -1.00660221e-15, ...,\n",
       "        -1.72898732e-15, -1.56911521e-15, -2.41584530e-15],\n",
       "       [-1.60464234e-15, -1.75267208e-15, -1.67569662e-15, ...,\n",
       "        -4.26325641e-16,  9.47390314e-17, -9.47390314e-17],\n",
       "       [ 8.33703477e-15,  7.56728014e-15,  8.10018719e-15, ...,\n",
       "         7.29490542e-15,  7.29490542e-15,  7.98176340e-15],\n",
       "       ...,\n",
       "       [ 4.19220214e-15,  3.81324602e-15,  3.50534416e-15, ...,\n",
       "         4.50000000e-01,  3.30000000e-01,  5.40000000e-01],\n",
       "       [ 3.64745271e-15,  4.31062593e-15,  3.03164901e-15, ...,\n",
       "         1.20000000e-01,  2.50000000e-01,  4.00000000e-02],\n",
       "       [ 1.87109587e-15,  1.10134124e-15,  1.12502600e-15, ...,\n",
       "         1.20000000e-01,  1.13982897e-15,  2.00000000e-01]])"
      ]
     },
     "execution_count": 58,
     "metadata": {},
     "output_type": "execute_result"
    }
   ],
   "source": [
    "combined_seq"
   ]
  },
  {
   "cell_type": "code",
   "execution_count": 61,
   "metadata": {},
   "outputs": [],
   "source": [
    "onehot_flatten = onehot.reshape(onehot.shape[0], -1)\n",
    "hydrophobicity_flatten = hydrophobicity.reshape(hydrophobicity.shape[0], -1)"
   ]
  },
  {
   "cell_type": "code",
   "execution_count": 67,
   "metadata": {},
   "outputs": [],
   "source": [
    "combine_fft = signal.fftconvolve(onehot_flatten, hydrophobicity_flatten, mode='same')\n",
    "combine = signal.convolve(onehot_flatten, hydrophobicity_flatten, mode='same')\n"
   ]
  },
  {
   "cell_type": "code",
   "execution_count": 68,
   "metadata": {},
   "outputs": [
    {
     "data": {
      "text/plain": [
       "((32610, 4700), (32610, 4700), (32610, 4700), (32610, 4700))"
      ]
     },
     "execution_count": 68,
     "metadata": {},
     "output_type": "execute_result"
    }
   ],
   "source": [
    "onehot_flatten.shape, hydrophobicity_flatten.shape, combine_fft.shape, combine.shape"
   ]
  },
  {
   "cell_type": "code",
   "execution_count": 66,
   "metadata": {},
   "outputs": [
    {
     "data": {
      "text/plain": [
       "array([[564799.68, 512938.36, 512683.87, ..., 558745.3 , 568475.34,\n",
       "        561501.97],\n",
       "       [564832.75, 512955.63, 512705.16, ..., 558772.57, 568511.88,\n",
       "        561526.06],\n",
       "       [564868.78, 513009.43, 512724.77, ..., 558810.46, 568551.61,\n",
       "        561579.19],\n",
       "       ...,\n",
       "       [564654.53, 513149.58, 511575.44, ..., 558882.7 , 568622.3 ,\n",
       "        561891.68],\n",
       "       [564622.69, 513131.5 , 511528.55, ..., 558850.66, 568591.6 ,\n",
       "        561867.94],\n",
       "       [564590.96, 513086.75, 511497.74, ..., 558816.36, 568543.19,\n",
       "        561830.49]])"
      ]
     },
     "execution_count": 66,
     "metadata": {},
     "output_type": "execute_result"
    }
   ],
   "source": [
    "combine_fft"
   ]
  },
  {
   "cell_type": "code",
   "execution_count": 69,
   "metadata": {},
   "outputs": [
    {
     "data": {
      "text/plain": [
       "array([[564799.68, 512938.36, 512683.87, ..., 558745.3 , 568475.34,\n",
       "        561501.97],\n",
       "       [564832.75, 512955.63, 512705.16, ..., 558772.57, 568511.88,\n",
       "        561526.06],\n",
       "       [564868.78, 513009.43, 512724.77, ..., 558810.46, 568551.61,\n",
       "        561579.19],\n",
       "       ...,\n",
       "       [564654.53, 513149.58, 511575.44, ..., 558882.7 , 568622.3 ,\n",
       "        561891.68],\n",
       "       [564622.69, 513131.5 , 511528.55, ..., 558850.66, 568591.6 ,\n",
       "        561867.94],\n",
       "       [564590.96, 513086.75, 511497.74, ..., 558816.36, 568543.19,\n",
       "        561830.49]])"
      ]
     },
     "execution_count": 69,
     "metadata": {},
     "output_type": "execute_result"
    }
   ],
   "source": [
    "combine"
   ]
  }
 ],
 "metadata": {
  "kernelspec": {
   "display_name": "tss",
   "language": "python",
   "name": "python3"
  },
  "language_info": {
   "codemirror_mode": {
    "name": "ipython",
    "version": 3
   },
   "file_extension": ".py",
   "mimetype": "text/x-python",
   "name": "python",
   "nbconvert_exporter": "python",
   "pygments_lexer": "ipython3",
   "version": "3.8.12"
  },
  "orig_nbformat": 4
 },
 "nbformat": 4,
 "nbformat_minor": 2
}
